{
 "cells": [
  {
   "cell_type": "code",
   "execution_count": 32,
   "metadata": {},
   "outputs": [],
   "source": [
    "import pandas as pd\n",
    "import numpy as np\n",
    "import time\n",
    "\n",
    "import matplotlib.pyplot as plt"
   ]
  },
  {
   "cell_type": "code",
   "execution_count": 33,
   "metadata": {},
   "outputs": [],
   "source": [
    "from sklearn.linear_model import LinearRegression\n",
    "from sklearn.decomposition import PCA\n",
    "from utils import *"
   ]
  },
  {
   "cell_type": "code",
   "execution_count": 34,
   "metadata": {},
   "outputs": [],
   "source": [
    "types = \"short\"\n",
    "normalized = False\n",
    "binary_classify = True\n",
    "\n",
    "data_path_unsw_train = \"dataset/UNSW_NB15_training-set.csv\"\n",
    "data_path_unsw_test = \"dataset/UNSW_NB15_testing-set.csv\"\n",
    "\n",
    "n_compnents = 16\n",
    "normalized = True\n",
    "binary_classify = False\n",
    "label = False  # label=False for Feature Extraction"
   ]
  },
  {
   "cell_type": "code",
   "execution_count": 35,
   "metadata": {},
   "outputs": [
    {
     "name": "stderr",
     "output_type": "stream",
     "text": [
      "/home/dotronghiep/OneDrive/Documents/Uni/Year3_Term2/PLS-numerical-method/utils.py:135: FutureWarning: A value is trying to be set on a copy of a DataFrame or Series through chained assignment using an inplace method.\n",
      "The behavior will change in pandas 3.0. This inplace method will never work because the intermediate object on which we are setting values always behaves as a copy.\n",
      "\n",
      "For example, when doing 'df[col].method(value, inplace=True)', try using 'df.method({col: value}, inplace=True)' or df[col] = df[col].method(value) instead, to perform the operation inplace on the original object.\n",
      "\n",
      "\n",
      "  data['service'].replace('-', 'other', inplace=True)\n"
     ]
    }
   ],
   "source": [
    "data_train = preprocessing_data_unsw(data_path=data_path_unsw_train, normalized=normalized,\n",
    "                                     binary_classify=binary_classify)\n",
    "y_train = data_train['label']\n",
    "data_train = data_train.drop(columns=['label'])"
   ]
  },
  {
   "cell_type": "code",
   "execution_count": 36,
   "metadata": {},
   "outputs": [
    {
     "name": "stdout",
     "output_type": "stream",
     "text": [
      "time_PCA:  30.299115915000016\n"
     ]
    }
   ],
   "source": [
    "# feature extraction using PCA\n",
    "time_PCA_start = time.process_time()\n",
    "X = data_train.to_numpy()\n",
    "X_mean = np.mean(X, axis=0)\n",
    "X_hat = X - X_mean\n",
    "\n",
    "pca = PCA(n_components=n_compnents)\n",
    "pca.fit(data_train)\n",
    "U = pca.components_.T\n",
    "\n",
    "X_train = np.dot(U.T, X_hat.T).T\n",
    "time_PCA_end = time.process_time()\n",
    "time_PCA = time_PCA_end - time_PCA_start\n",
    "print(\"time_PCA: \", time_PCA)"
   ]
  },
  {
   "cell_type": "code",
   "execution_count": 37,
   "metadata": {},
   "outputs": [
    {
     "name": "stdout",
     "output_type": "stream",
     "text": [
      "time_train_LR:  0.11452299999996285\n"
     ]
    }
   ],
   "source": [
    "\n",
    "# create a linear regression classifier for PCA\n",
    "classifier = LinearRegression()\n",
    "\n",
    "time_train_LR_start = time.process_time()\n",
    "classifier.fit(X_train, y_train)\n",
    "time_train_LR_end = time.process_time()\n",
    "time_train_LR = time_train_LR_end - time_train_LR_start\n",
    "print(\"time_train_LR: \", time_train_LR)\n"
   ]
  },
  {
   "cell_type": "code",
   "execution_count": 38,
   "metadata": {},
   "outputs": [
    {
     "name": "stderr",
     "output_type": "stream",
     "text": [
      "/home/dotronghiep/OneDrive/Documents/Uni/Year3_Term2/PLS-numerical-method/utils.py:135: FutureWarning: A value is trying to be set on a copy of a DataFrame or Series through chained assignment using an inplace method.\n",
      "The behavior will change in pandas 3.0. This inplace method will never work because the intermediate object on which we are setting values always behaves as a copy.\n",
      "\n",
      "For example, when doing 'df[col].method(value, inplace=True)', try using 'df.method({col: value}, inplace=True)' or df[col] = df[col].method(value) instead, to perform the operation inplace on the original object.\n",
      "\n",
      "\n",
      "  data['service'].replace('-', 'other', inplace=True)\n"
     ]
    },
    {
     "name": "stdout",
     "output_type": "stream",
     "text": [
      "7.656903996016134e-05\n"
     ]
    }
   ],
   "source": [
    "# data processing for test dataset PCA\n",
    "data_test = preprocessing_data_unsw(data_path=data_path_unsw_test, normalized=normalized,\n",
    "                                    binary_classify=binary_classify)\n",
    "y_test = data_test['label']\n",
    "data_test = data_test.drop(columns=['label'])\n",
    "data_test = align_test_dataset(data_test, data_train)\n",
    "\n",
    "time_predict_PCA_start = time.process_time()\n",
    "X_test_PCA = np.dot(U.T, (data_test.to_numpy() - X_mean).T).T\n",
    "y_pred_PCA = classifier.predict(X_test_PCA)\n",
    "time_predict_PCA_end = time.process_time()\n",
    "time_predict = (time_predict_PCA_end - time_predict_PCA_start) / len(y_test)\n",
    "print(time_predict)"
   ]
  },
  {
   "cell_type": "code",
   "execution_count": 39,
   "metadata": {},
   "outputs": [
    {
     "name": "stdout",
     "output_type": "stream",
     "text": [
      "\n",
      "Mean Absolute Error -  0.8755769324199583\n",
      "Precision -  74.39204985910374\n",
      "Recall -  59.541854928824755\n",
      "F1 score -  66.14367956466658\n",
      "Accuracy -  59.541854928824755\n",
      "Running training -  7.656903996016134e-05\n"
     ]
    },
    {
     "name": "stderr",
     "output_type": "stream",
     "text": [
      "/home/dotronghiep/anaconda3/envs/PPT/lib/python3.9/site-packages/sklearn/metrics/_classification.py:1497: UndefinedMetricWarning: Precision is ill-defined and being set to 0.0 in labels with no predicted samples. Use `zero_division` parameter to control this behavior.\n",
      "  _warn_prf(average, modifier, f\"{metric.capitalize()} is\", len(result))\n",
      "/home/dotronghiep/anaconda3/envs/PPT/lib/python3.9/site-packages/sklearn/metrics/_classification.py:1497: UndefinedMetricWarning: Recall is ill-defined and being set to 0.0 in labels with no true samples. Use `zero_division` parameter to control this behavior.\n",
      "  _warn_prf(average, modifier, f\"{metric.capitalize()} is\", len(result))\n"
     ]
    }
   ],
   "source": [
    "# results of PCA\n",
    "display_results(y_test=y_test, y_pred=y_pred_PCA, run_time=time_predict)"
   ]
  },
  {
   "cell_type": "code",
   "execution_count": 40,
   "metadata": {},
   "outputs": [
    {
     "name": "stdout",
     "output_type": "stream",
     "text": [
      "time_PLS:  28.752743074000023\n"
     ]
    }
   ],
   "source": [
    "from sklearn.cross_decomposition import PLSRegression\n",
    "\n",
    "# feature extraction using PLS\n",
    "time_PLS_start = time.process_time()\n",
    "pls = PLSRegression(n_components=n_compnents)\n",
    "pls.fit(data_train, y_train)\n",
    "X_train_pls = pls.transform(data_train)\n",
    "time_PLS_end = time.process_time()\n",
    "time_PLS = time_PLS_end - time_PLS_start\n",
    "print(\"time_PLS: \", time_PLS)\n"
   ]
  },
  {
   "cell_type": "code",
   "execution_count": 41,
   "metadata": {},
   "outputs": [
    {
     "name": "stdout",
     "output_type": "stream",
     "text": [
      "2.4414216829393943e-07\n",
      "\n",
      "Mean Absolute Error -  2.826774522664335\n",
      "Precision -  44.19662731583867\n",
      "Recall -  15.037895350531993\n",
      "F1 score -  22.440435965541226\n",
      "Accuracy -  15.037895350531993\n",
      "Running training -  7.656903996016134e-05\n"
     ]
    },
    {
     "name": "stderr",
     "output_type": "stream",
     "text": [
      "/home/dotronghiep/anaconda3/envs/PPT/lib/python3.9/site-packages/sklearn/metrics/_classification.py:1497: UndefinedMetricWarning: Recall is ill-defined and being set to 0.0 in labels with no true samples. Use `zero_division` parameter to control this behavior.\n",
      "  _warn_prf(average, modifier, f\"{metric.capitalize()} is\", len(result))\n"
     ]
    }
   ],
   "source": [
    "\n",
    "# Transform test data using PLS\n",
    "X_test_PLS = pls.transform(data_test)\n",
    "\n",
    "time_predict_PLS_start = time.process_time()\n",
    "# Predict using PLS model\n",
    "y_pred_PLS = classifier.predict(X_test_PLS)\n",
    "\n",
    "time_predict_PLS_end = time.process_time()\n",
    "time_predict_PLS = (time_predict_PLS_end - time_predict_PLS_start) / len(y_test)\n",
    "\n",
    "print(time_predict_PLS)\n",
    "display_results(y_test=y_test, y_pred=y_pred_PLS, run_time=time_predict)"
   ]
  }
 ],
 "metadata": {
  "kernelspec": {
   "display_name": "PPT",
   "language": "python",
   "name": "python3"
  },
  "language_info": {
   "codemirror_mode": {
    "name": "ipython",
    "version": 3
   },
   "file_extension": ".py",
   "mimetype": "text/x-python",
   "name": "python",
   "nbconvert_exporter": "python",
   "pygments_lexer": "ipython3",
   "version": "3.9.18"
  }
 },
 "nbformat": 4,
 "nbformat_minor": 2
}
